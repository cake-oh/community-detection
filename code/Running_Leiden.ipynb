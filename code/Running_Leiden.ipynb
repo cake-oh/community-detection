{
 "cells": [
  {
   "cell_type": "code",
   "execution_count": 3,
   "id": "70546c8a",
   "metadata": {},
   "outputs": [],
   "source": [
    "import sys\n",
    "sys.path.append (\"/Users/maryamtorkashvand/Documents/labgeosocial/python/networkanalysis\")"
   ]
  },
  {
   "cell_type": "code",
   "execution_count": 4,
   "id": "90b83462",
   "metadata": {},
   "outputs": [],
   "source": [
    "import Leiden"
   ]
  },
  {
   "cell_type": "code",
   "execution_count": 5,
   "id": "01fe1847",
   "metadata": {},
   "outputs": [
    {
     "name": "stdout",
     "output_type": "stream",
     "text": [
      "The modularity is 0.055073856829756074\n",
      "The number of partitions is 2\n",
      "The modularity is 0.10105540496559039\n",
      "The number of partitions is 4\n",
      "The modularity is 0.16500778687122142\n",
      "The number of partitions is 3\n",
      "The modularity is 0.12371945656681582\n",
      "The number of partitions is 3\n",
      "The modularity is 0.20324347916069893\n",
      "The number of partitions is 3\n",
      "The modularity is 0.2825559095941066\n",
      "The number of partitions is 5\n",
      "The modularity is 0.168400238517923\n",
      "The number of partitions is 4\n",
      "The modularity is 0.15017704630628215\n",
      "The number of partitions is 4\n",
      "The modularity is 0.09459890000617861\n",
      "The number of partitions is 4\n",
      "The modularity is 0.08262811600746812\n",
      "The number of partitions is 4\n"
     ]
    }
   ],
   "source": [
    "rootdir = \"/Users/maryamtorkashvand/Library/CloudStorage/OneDrive-UniversityofIowa/Metacoupling_project/project/output/Networks\"\n",
    "flowfilephrase = \"Flows\"\n",
    "source = \"Exporter.ISO3\"\n",
    "target = \"Importer.ISO3\"\n",
    "weight = \"lTrade.value.US\"\n",
    "Leiden.leidenForFilesInFolder(rootdir, flowfilephrase, source, target, weight)"
   ]
  },
  {
   "cell_type": "code",
   "execution_count": null,
   "id": "6459ab7b",
   "metadata": {},
   "outputs": [],
   "source": []
  }
 ],
 "metadata": {
  "kernelspec": {
   "display_name": "Python 3 (ipykernel)",
   "language": "python",
   "name": "python3"
  },
  "language_info": {
   "codemirror_mode": {
    "name": "ipython",
    "version": 3
   },
   "file_extension": ".py",
   "mimetype": "text/x-python",
   "name": "python",
   "nbconvert_exporter": "python",
   "pygments_lexer": "ipython3",
   "version": "3.9.13"
  }
 },
 "nbformat": 4,
 "nbformat_minor": 5
}
