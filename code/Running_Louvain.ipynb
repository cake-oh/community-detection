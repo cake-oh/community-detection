{
 "cells": [
  {
   "cell_type": "code",
   "execution_count": null,
   "id": "ddba97fe",
   "metadata": {},
   "outputs": [],
   "source": [
    "#Running louvain comminuty detection on UNTrade dataset "
   ]
  },
  {
   "cell_type": "code",
   "execution_count": 1,
   "id": "6797401f",
   "metadata": {},
   "outputs": [],
   "source": [
    "import sys\n",
    "sys.path.append (\"/Users/maryamtorkashvand/Documents/labgeosocial/python/networkanalysis\")"
   ]
  },
  {
   "cell_type": "code",
   "execution_count": 2,
   "id": "35100e4f",
   "metadata": {},
   "outputs": [],
   "source": [
    "import louvain"
   ]
  },
  {
   "cell_type": "code",
   "execution_count": 3,
   "id": "c49dc77e",
   "metadata": {},
   "outputs": [
    {
     "name": "stdout",
     "output_type": "stream",
     "text": [
      "The modularity is 0.05507385682975593\n",
      "The number of partitions is 2\n",
      "The modularity is 0.10105540496559022\n",
      "The number of partitions is 4\n",
      "The modularity is 0.1650077868712216\n",
      "The number of partitions is 3\n",
      "The modularity is 0.12130134789994583\n",
      "The number of partitions is 4\n",
      "The modularity is 0.2032349481431919\n",
      "The number of partitions is 3\n",
      "The modularity is 0.2779634109480898\n",
      "The number of partitions is 4\n",
      "The modularity is 0.16679759404138314\n",
      "The number of partitions is 4\n",
      "The modularity is 0.14991515790371585\n",
      "The number of partitions is 3\n",
      "The modularity is 0.09459188937514981\n",
      "The number of partitions is 4\n",
      "The modularity is 0.08262811600746771\n",
      "The number of partitions is 4\n"
     ]
    }
   ],
   "source": [
    "\n",
    "rootdir = \"/Users/maryamtorkashvand/Library/CloudStorage/OneDrive-UniversityofIowa/Metacoupling_project/project/output/Networks\"\n",
    "flowfilephrase = \"Flows\"\n",
    "source = \"Exporter.ISO3\"\n",
    "target = \"Importer.ISO3\"\n",
    "weight = \"lTrade.value.US\"\n",
    "louvain.louvainForFilesInFolder(rootdir, flowfilephrase, source, target, weight)"
   ]
  },
  {
   "cell_type": "code",
   "execution_count": null,
   "id": "7f27afbc",
   "metadata": {},
   "outputs": [],
   "source": []
  }
 ],
 "metadata": {
  "kernelspec": {
   "display_name": "Python 3 (ipykernel)",
   "language": "python",
   "name": "python3"
  },
  "language_info": {
   "codemirror_mode": {
    "name": "ipython",
    "version": 3
   },
   "file_extension": ".py",
   "mimetype": "text/x-python",
   "name": "python",
   "nbconvert_exporter": "python",
   "pygments_lexer": "ipython3",
   "version": "3.9.13"
  }
 },
 "nbformat": 4,
 "nbformat_minor": 5
}
